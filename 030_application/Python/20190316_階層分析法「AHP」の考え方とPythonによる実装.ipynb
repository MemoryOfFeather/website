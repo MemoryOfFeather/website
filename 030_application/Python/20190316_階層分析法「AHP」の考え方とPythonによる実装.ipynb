{
 "cells": [
  {
   "cell_type": "markdown",
   "metadata": {},
   "source": [
    "# 階層分析法「AHP」の考え方とPythonによる実装\n",
    "## https://logics-of-blue.com/ahp-concept-and-implementation-by-python"
   ]
  },
  {
   "cell_type": "code",
   "execution_count": 1,
   "metadata": {},
   "outputs": [],
   "source": [
    "# ライブラリを読み込む\n",
    "from sympy import * \n",
    "\n",
    "# 出力を美しくする\n",
    "init_printing()"
   ]
  },
  {
   "cell_type": "code",
   "execution_count": 2,
   "metadata": {},
   "outputs": [
    {
     "name": "stdout",
     "output_type": "stream",
     "text": [
      "1.3\n"
     ]
    }
   ],
   "source": [
    "# sympyのバージョン\n",
    "import sympy\n",
    "print(sympy.__version__)"
   ]
  },
  {
   "cell_type": "markdown",
   "metadata": {},
   "source": [
    "## 味と価格の2つの基準の重みを計算する"
   ]
  },
  {
   "cell_type": "code",
   "execution_count": 3,
   "metadata": {},
   "outputs": [],
   "source": [
    "# 基準の行列\n",
    "eval_mat_1 = Matrix(    \n",
    "    [[1   , 3,],\n",
    "     [1/3 , 1]]\n",
    ")"
   ]
  },
  {
   "cell_type": "code",
   "execution_count": 4,
   "metadata": {},
   "outputs": [
    {
     "data": {
      "text/latex": [
       "$$\\left [ \\left ( 0, \\quad 1, \\quad \\left [ \\left[\\begin{matrix}-3.0\\\\1.0\\end{matrix}\\right]\\right ]\\right ), \\quad \\left ( 2.0, \\quad 1, \\quad \\left [ \\left[\\begin{matrix}3.0\\\\1.0\\end{matrix}\\right]\\right ]\\right )\\right ]$$"
      ],
      "text/plain": [
       "⎡⎛      ⎡⎡-3.0⎤⎤⎞  ⎛        ⎡⎡3.0⎤⎤⎞⎤\n",
       "⎢⎜0, 1, ⎢⎢    ⎥⎥⎟, ⎜2.0, 1, ⎢⎢   ⎥⎥⎟⎥\n",
       "⎣⎝      ⎣⎣1.0 ⎦⎦⎠  ⎝        ⎣⎣1.0⎦⎦⎠⎦"
      ]
     },
     "execution_count": 4,
     "metadata": {},
     "output_type": "execute_result"
    }
   ],
   "source": [
    "# 固有値と固有ベクトル\n",
    "eigen_val_vects_1 = eval_mat_1.eigenvects()\n",
    "eigen_val_vects_1"
   ]
  },
  {
   "cell_type": "code",
   "execution_count": 5,
   "metadata": {},
   "outputs": [],
   "source": [
    "# 固有値と多重度、固有ベクトルのインデックスを保存しておく\n",
    "EIGEN_VAL_IDX = 0\n",
    "MULUTIPLICITY_IDX = 1\n",
    "EIGEN_VEC_IDX = 2"
   ]
  },
  {
   "cell_type": "code",
   "execution_count": 6,
   "metadata": {},
   "outputs": [
    {
     "data": {
      "text/latex": [
       "$$\\left ( 2.0, \\quad 1, \\quad \\left [ \\left[\\begin{matrix}3.0\\\\1.0\\end{matrix}\\right]\\right ]\\right )$$"
      ],
      "text/plain": [
       "⎛        ⎡⎡3.0⎤⎤⎞\n",
       "⎜2.0, 1, ⎢⎢   ⎥⎥⎟\n",
       "⎝        ⎣⎣1.0⎦⎦⎠"
      ]
     },
     "execution_count": 6,
     "metadata": {},
     "output_type": "execute_result"
    }
   ],
   "source": [
    "# 最大固有値とその時の多重度・固有ベクトルを取得\n",
    "max(eigen_val_vects_1, key=(lambda x: x[EIGEN_VAL_IDX]))"
   ]
  },
  {
   "cell_type": "code",
   "execution_count": 7,
   "metadata": {},
   "outputs": [
    {
     "data": {
      "text/latex": [
       "$$\\left [ \\left[\\begin{matrix}3.0\\\\1.0\\end{matrix}\\right]\\right ]$$"
      ],
      "text/plain": [
       "⎡⎡3.0⎤⎤\n",
       "⎢⎢   ⎥⎥\n",
       "⎣⎣1.0⎦⎦"
      ]
     },
     "execution_count": 7,
     "metadata": {},
     "output_type": "execute_result"
    }
   ],
   "source": [
    "# 要素ごとに分けて取得\n",
    "eigen_val, multiplicity, eigen_vec = max(eigen_val_vects_1, key=(lambda x: x[EIGEN_VAL_IDX]))\n",
    "eigen_vec"
   ]
  },
  {
   "cell_type": "code",
   "execution_count": 8,
   "metadata": {},
   "outputs": [
    {
     "data": {
      "text/plain": [
       "list"
      ]
     },
     "execution_count": 8,
     "metadata": {},
     "output_type": "execute_result"
    }
   ],
   "source": [
    "# 固有ベクトルは、なぜかlistになっている\n",
    "type(eigen_vec)"
   ]
  },
  {
   "cell_type": "code",
   "execution_count": 9,
   "metadata": {},
   "outputs": [
    {
     "data": {
      "text/latex": [
       "$$\\left[\\begin{matrix}3.0\\\\1.0\\end{matrix}\\right]$$"
      ],
      "text/plain": [
       "⎡3.0⎤\n",
       "⎢   ⎥\n",
       "⎣1.0⎦"
      ]
     },
     "execution_count": 9,
     "metadata": {},
     "output_type": "execute_result"
    }
   ],
   "source": [
    "# 最初の要素を取得\n",
    "eigen_vec[0]"
   ]
  },
  {
   "cell_type": "code",
   "execution_count": 10,
   "metadata": {},
   "outputs": [
    {
     "data": {
      "text/plain": [
       "sympy.matrices.dense.MutableDenseMatrix"
      ]
     },
     "execution_count": 10,
     "metadata": {},
     "output_type": "execute_result"
    }
   ],
   "source": [
    "# こちらはちゃんと行列になっている\n",
    "type(eigen_vec[0])"
   ]
  },
  {
   "cell_type": "code",
   "execution_count": 11,
   "metadata": {},
   "outputs": [
    {
     "data": {
      "text/latex": [
       "$$\\left[\\begin{matrix}0.75\\\\0.25\\end{matrix}\\right]$$"
      ],
      "text/plain": [
       "⎡0.75⎤\n",
       "⎢    ⎥\n",
       "⎣0.25⎦"
      ]
     },
     "execution_count": 11,
     "metadata": {},
     "output_type": "execute_result"
    }
   ],
   "source": [
    "# 重みの計算\n",
    "eigen_vec[0] / sum(eigen_vec[0])"
   ]
  },
  {
   "cell_type": "markdown",
   "metadata": {},
   "source": [
    "### 比較行列から重みを計算するための関数を作る"
   ]
  },
  {
   "cell_type": "code",
   "execution_count": 12,
   "metadata": {},
   "outputs": [],
   "source": [
    "# 比較行列から重みベクトルを計算する関数\n",
    "def calc_ahp_weight_vec(comparison_mat):\n",
    "    '''\n",
    "    比較行列から重みベクトルを計算する関数\n",
    "\n",
    "    Arguments:\n",
    "\n",
    "    comparison_mat -- 比較行列\n",
    "    \n",
    "    '''\n",
    "    \n",
    "    # 固有値のインデックス\n",
    "    EIGEN_VAL_IDX = 0\n",
    "    \n",
    "    # sympyの関数を使って、固有値と固有ベクトルを得る\n",
    "    eigen_val_vects = comparison_mat.eigenvects()\n",
    "    \n",
    "    # 最大固有値とその時の多重度・固有ベクトルを取得\n",
    "    eigen_val, multiplicity, eigen_vec = max(eigen_val_vects, key=(lambda x: x[EIGEN_VAL_IDX]))\n",
    "    \n",
    "    # 重みの合計が1になるように標準化\n",
    "    weight_vec = eigen_vec[0] / sum(eigen_vec[0])\n",
    "    \n",
    "    # 重みを返す\n",
    "    return(weight_vec)"
   ]
  },
  {
   "cell_type": "code",
   "execution_count": 13,
   "metadata": {},
   "outputs": [
    {
     "data": {
      "text/latex": [
       "$$\\left[\\begin{matrix}0.75\\\\0.25\\end{matrix}\\right]$$"
      ],
      "text/plain": [
       "⎡0.75⎤\n",
       "⎢    ⎥\n",
       "⎣0.25⎦"
      ]
     },
     "execution_count": 13,
     "metadata": {},
     "output_type": "execute_result"
    }
   ],
   "source": [
    "# 確認\n",
    "calc_ahp_weight_vec(eval_mat_1)"
   ]
  },
  {
   "cell_type": "markdown",
   "metadata": {},
   "source": [
    "### 寿司と牛丼問題を解決する"
   ]
  },
  {
   "cell_type": "code",
   "execution_count": 14,
   "metadata": {},
   "outputs": [],
   "source": [
    "# 基準の行列\n",
    "# 要素1が味\n",
    "# 要素2が価格\n",
    "eval_mat_1 = Matrix(    \n",
    "    [[1   , 3,],\n",
    "     [1/3 , 1]]\n",
    ")\n",
    "\n",
    "# 味に関する、お寿司と牛丼の比較行列\n",
    "# 要素1がお寿司\n",
    "# 要素2が牛丼\n",
    "taste_mat_1 = Matrix(    \n",
    "    [[1   , 5,],\n",
    "     [1/5 , 1]]\n",
    ")\n",
    "\n",
    "# 価格に関する、お寿司と牛丼の比較行列\n",
    "# 要素1がお寿司\n",
    "# 要素2が牛丼\n",
    "price_mat_1 = Matrix(    \n",
    "    [[1 , 1/9,],\n",
    "     [9 ,   1]]\n",
    ")\n"
   ]
  },
  {
   "cell_type": "code",
   "execution_count": 15,
   "metadata": {},
   "outputs": [
    {
     "data": {
      "text/latex": [
       "$$\\left[\\begin{matrix}0.75\\\\0.25\\end{matrix}\\right]$$"
      ],
      "text/plain": [
       "⎡0.75⎤\n",
       "⎢    ⎥\n",
       "⎣0.25⎦"
      ]
     },
     "execution_count": 15,
     "metadata": {},
     "output_type": "execute_result"
    }
   ],
   "source": [
    "# 基準の重みベクトル\n",
    "eval_weight_1 = calc_ahp_weight_vec(eval_mat_1)\n",
    "eval_weight_1"
   ]
  },
  {
   "cell_type": "code",
   "execution_count": 16,
   "metadata": {},
   "outputs": [
    {
     "data": {
      "text/latex": [
       "$$\\left[\\begin{matrix}0.83\\\\0.17\\end{matrix}\\right]$$"
      ],
      "text/plain": [
       "⎡0.83⎤\n",
       "⎢    ⎥\n",
       "⎣0.17⎦"
      ]
     },
     "execution_count": 16,
     "metadata": {},
     "output_type": "execute_result"
    }
   ],
   "source": [
    "# 味に関する、お寿司と牛丼の重みベクトル\n",
    "taste_weight_1 = calc_ahp_weight_vec(taste_mat_1)\n",
    "N(taste_weight_1, 2)"
   ]
  },
  {
   "cell_type": "code",
   "execution_count": 17,
   "metadata": {},
   "outputs": [
    {
     "data": {
      "text/latex": [
       "$$\\left[\\begin{matrix}0.1\\\\0.9\\end{matrix}\\right]$$"
      ],
      "text/plain": [
       "⎡0.1⎤\n",
       "⎢   ⎥\n",
       "⎣0.9⎦"
      ]
     },
     "execution_count": 17,
     "metadata": {},
     "output_type": "execute_result"
    }
   ],
   "source": [
    "# 価格に関する、お寿司と牛丼の重みベクトル\n",
    "price_weight_1 = calc_ahp_weight_vec(price_mat_1)\n",
    "price_weight_1"
   ]
  },
  {
   "cell_type": "code",
   "execution_count": 18,
   "metadata": {},
   "outputs": [
    {
     "data": {
      "text/latex": [
       "$$\\left[\\begin{matrix}0.83 & 0.1\\\\0.17 & 0.9\\end{matrix}\\right]$$"
      ],
      "text/plain": [
       "⎡0.83  0.1⎤\n",
       "⎢         ⎥\n",
       "⎣0.17  0.9⎦"
      ]
     },
     "execution_count": 18,
     "metadata": {},
     "output_type": "execute_result"
    }
   ],
   "source": [
    "# お寿司と牛丼の結果を結合\n",
    "join_mat_1 = taste_weight_1.row_join(price_weight_1)\n",
    "N(join_mat_1, 2)"
   ]
  },
  {
   "cell_type": "code",
   "execution_count": 19,
   "metadata": {},
   "outputs": [
    {
     "data": {
      "text/latex": [
       "$$\\left[\\begin{matrix}0.65\\\\0.35\\end{matrix}\\right]$$"
      ],
      "text/plain": [
       "⎡0.65⎤\n",
       "⎢    ⎥\n",
       "⎣0.35⎦"
      ]
     },
     "execution_count": 19,
     "metadata": {},
     "output_type": "execute_result"
    }
   ],
   "source": [
    "# 総合評価\n",
    "# 要素1がお寿司\n",
    "# 要素2が牛丼\n",
    "join_mat_1 * eval_weight_1"
   ]
  },
  {
   "cell_type": "markdown",
   "metadata": {},
   "source": [
    "# 味・価格・待ち時間の3つの基準があるときのAHP"
   ]
  },
  {
   "cell_type": "markdown",
   "metadata": {},
   "source": [
    "### 推移性が満たされている例"
   ]
  },
  {
   "cell_type": "code",
   "execution_count": 20,
   "metadata": {},
   "outputs": [],
   "source": [
    "# 基準の行列\n",
    "# 要素1が味\n",
    "# 要素2が価格\n",
    "# 要素3が待ち時間\n",
    "eval_mat_2 = Matrix(    \n",
    "    [[1   , 3  , 15],\n",
    "     [1/3 , 1  , 5],\n",
    "     [1/15, 1/5, 1]]\n",
    ")"
   ]
  },
  {
   "cell_type": "code",
   "execution_count": 21,
   "metadata": {},
   "outputs": [
    {
     "data": {
      "text/latex": [
       "$$\\left ( 3.0, \\quad 1, \\quad \\left [ \\left[\\begin{matrix}15.0\\\\5.0\\\\1.0\\end{matrix}\\right]\\right ]\\right )$$"
      ],
      "text/plain": [
       "⎛        ⎡⎡15.0⎤⎤⎞\n",
       "⎜        ⎢⎢    ⎥⎥⎟\n",
       "⎜3.0, 1, ⎢⎢5.0 ⎥⎥⎟\n",
       "⎜        ⎢⎢    ⎥⎥⎟\n",
       "⎝        ⎣⎣1.0 ⎦⎦⎠"
      ]
     },
     "execution_count": 21,
     "metadata": {},
     "output_type": "execute_result"
    }
   ],
   "source": [
    "# 最大固有値とその時の多重度・固有ベクトルを取得\n",
    "eigen_val_vects_2 = eval_mat_2.eigenvects()\n",
    "max(eigen_val_vects_2, key=(lambda x: x[EIGEN_VAL_IDX]))"
   ]
  },
  {
   "cell_type": "code",
   "execution_count": 22,
   "metadata": {
    "scrolled": true
   },
   "outputs": [
    {
     "data": {
      "text/latex": [
       "$$\\left[\\begin{matrix}0.71\\\\0.24\\\\0.048\\end{matrix}\\right]$$"
      ],
      "text/plain": [
       "⎡0.71 ⎤\n",
       "⎢     ⎥\n",
       "⎢0.24 ⎥\n",
       "⎢     ⎥\n",
       "⎣0.048⎦"
      ]
     },
     "execution_count": 22,
     "metadata": {},
     "output_type": "execute_result"
    }
   ],
   "source": [
    "# 基準の重みベクトル\n",
    "eval_weight_2 = calc_ahp_weight_vec(eval_mat_2)\n",
    "N(eval_weight_2, 2)"
   ]
  },
  {
   "cell_type": "markdown",
   "metadata": {},
   "source": [
    "### 推移性が満たされていない例"
   ]
  },
  {
   "cell_type": "code",
   "execution_count": 23,
   "metadata": {},
   "outputs": [],
   "source": [
    "# 基準の行列\n",
    "# 要素1が味\n",
    "# 要素2が価格\n",
    "# 要素3が待ち時間\n",
    "eval_mat_3 = Matrix(    \n",
    "    [[1   , 3  , 1],\n",
    "     [1/3 , 1  , 5],\n",
    "     [1   , 1/5, 1]]\n",
    ")"
   ]
  },
  {
   "cell_type": "code",
   "execution_count": 24,
   "metadata": {},
   "outputs": [
    {
     "data": {
      "text/latex": [
       "$$\\left [ \\left ( -0.435846103684348 - 1.78464621154911 i, \\quad 1, \\quad \\left [ \\left[\\begin{matrix}-1.23310603716524 - 2.1358023074901 i\\\\-1.01370033259557 + 1.75578047970499 i\\\\1.0\\end{matrix}\\right]\\right ]\\right ), \\quad \\left ( -0.435846103684348 + 1.78464621154911 i, \\quad 1, \\quad \\left [ \\left[\\begin{matrix}-1.23310603716524 + 2.1358023074901 i\\\\-1.01370033259557 - 1.75578047970499 i\\\\1.0\\end{matrix}\\right]\\right ]\\right ), \\quad \\left ( 3.8716922073687, \\quad 1, \\quad \\left [ \\left[\\begin{matrix}2.46621207433047\\\\2.02740066519113\\\\1.0\\end{matrix}\\right]\\right ]\\right )\\right ]$$"
      ],
      "text/plain": [
       "⎡⎛                                            ⎡⎡-1.23310603716524 - 2.13580230\n",
       "⎢⎜                                            ⎢⎢                              \n",
       "⎢⎜-0.435846103684348 - 1.78464621154911⋅ⅈ, 1, ⎢⎢-1.01370033259557 + 1.75578047\n",
       "⎢⎜                                            ⎢⎢                              \n",
       "⎣⎝                                            ⎣⎣                 1.0          \n",
       "\n",
       "74901⋅ⅈ ⎤⎤⎞  ⎛                                            ⎡⎡-1.23310603716524 \n",
       "        ⎥⎥⎟  ⎜                                            ⎢⎢                  \n",
       "970499⋅ⅈ⎥⎥⎟, ⎜-0.435846103684348 + 1.78464621154911⋅ⅈ, 1, ⎢⎢-1.01370033259557 \n",
       "        ⎥⎥⎟  ⎜                                            ⎢⎢                  \n",
       "        ⎦⎦⎠  ⎝                                            ⎣⎣                 1\n",
       "\n",
       "+ 2.1358023074901⋅ⅈ ⎤⎤⎞  ⎛                    ⎡⎡2.46621207433047⎤⎤⎞⎤\n",
       "                    ⎥⎥⎟  ⎜                    ⎢⎢                ⎥⎥⎟⎥\n",
       "- 1.75578047970499⋅ⅈ⎥⎥⎟, ⎜3.8716922073687, 1, ⎢⎢2.02740066519113⎥⎥⎟⎥\n",
       "                    ⎥⎥⎟  ⎜                    ⎢⎢                ⎥⎥⎟⎥\n",
       ".0                  ⎦⎦⎠  ⎝                    ⎣⎣      1.0       ⎦⎦⎠⎦"
      ]
     },
     "execution_count": 24,
     "metadata": {},
     "output_type": "execute_result"
    }
   ],
   "source": [
    "eigen_val_vects_3 = eval_mat_3.eigenvects()\n",
    "eigen_val_vects_3"
   ]
  },
  {
   "cell_type": "code",
   "execution_count": 25,
   "metadata": {},
   "outputs": [],
   "source": [
    "# 最大固有値とその時の多重度・固有ベクトルを取得\n",
    "# しかし、普通にやるとエラーになる\n",
    "eigen_val_vects_3 = eval_mat_3.eigenvects()\n",
    "\n",
    "# 以下はエラー\n",
    "# max(eigen_val_vects_3, key=(lambda x: x[EIGEN_VAL_IDX]))"
   ]
  },
  {
   "cell_type": "code",
   "execution_count": 26,
   "metadata": {},
   "outputs": [
    {
     "data": {
      "image/png": "[encoded data removed]",
      "text/latex": [
       "$$-0.435846103684348 - 1.78464621154911 i$$"
      ],
      "text/plain": [
       "-0.435846103684348 - 1.78464621154911⋅ⅈ"
      ]
     },
     "execution_count": 26,
     "metadata": {},
     "output_type": "execute_result"
    }
   ],
   "source": [
    "# 固有値\n",
    "eigen_val_vects_3[0][EIGEN_VAL_IDX]"
   ]
  },
  {
   "cell_type": "code",
   "execution_count": 27,
   "metadata": {},
   "outputs": [
    {
     "data": {
      "image/png": "[encoded data removed]",
      "text/latex": [
       "$$\\left ( -0.435846103684348, \\quad -1.78464621154911\\right )$$"
      ],
      "text/plain": [
       "(-0.435846103684348, -1.78464621154911)"
      ]
     },
     "execution_count": 27,
     "metadata": {},
     "output_type": "execute_result"
    }
   ],
   "source": [
    "# 固有値を実数部と虚数部に分ける\n",
    "eigen_val_vects_3[0][EIGEN_VAL_IDX].as_real_imag()"
   ]
  },
  {
   "cell_type": "code",
   "execution_count": 28,
   "metadata": {},
   "outputs": [
    {
     "data": {
      "image/png": "[encoded data removed]",
      "text/latex": [
       "$$-0.435846103684348$$"
      ],
      "text/plain": [
       "-0.435846103684348"
      ]
     },
     "execution_count": 28,
     "metadata": {},
     "output_type": "execute_result"
    }
   ],
   "source": [
    "# 実数部のみ取得\n",
    "eigen_val_vects_3[0][EIGEN_VAL_IDX].as_real_imag()[0]"
   ]
  },
  {
   "cell_type": "code",
   "execution_count": 29,
   "metadata": {},
   "outputs": [
    {
     "data": {
      "text/latex": [
       "$$\\left ( 3.8716922073687, \\quad 1, \\quad \\left [ \\left[\\begin{matrix}2.46621207433047\\\\2.02740066519113\\\\1.0\\end{matrix}\\right]\\right ]\\right )$$"
      ],
      "text/plain": [
       "⎛                    ⎡⎡2.46621207433047⎤⎤⎞\n",
       "⎜                    ⎢⎢                ⎥⎥⎟\n",
       "⎜3.8716922073687, 1, ⎢⎢2.02740066519113⎥⎥⎟\n",
       "⎜                    ⎢⎢                ⎥⎥⎟\n",
       "⎝                    ⎣⎣      1.0       ⎦⎦⎠"
      ]
     },
     "execution_count": 29,
     "metadata": {},
     "output_type": "execute_result"
    }
   ],
   "source": [
    "# 実数部のみを取得して、最大固有値とその時の多重度、固有ベクトルを取得\n",
    "max(eigen_val_vects_3, key=(lambda x: x[EIGEN_VAL_IDX].as_real_imag()[0]))"
   ]
  },
  {
   "cell_type": "markdown",
   "metadata": {},
   "source": [
    "### 一貫性の評価"
   ]
  },
  {
   "cell_type": "code",
   "execution_count": 30,
   "metadata": {},
   "outputs": [
    {
     "data": {
      "image/png": "[encoded data removed]",
      "text/latex": [
       "$$\\left ( 3, \\quad 3\\right )$$"
      ],
      "text/plain": [
       "(3, 3)"
      ]
     },
     "execution_count": 30,
     "metadata": {},
     "output_type": "execute_result"
    }
   ],
   "source": [
    "# 比較行列の、行数と列数を取得\n",
    "eval_mat_3.shape"
   ]
  },
  {
   "cell_type": "code",
   "execution_count": 31,
   "metadata": {},
   "outputs": [
    {
     "data": {
      "image/png": "[encoded data removed]",
      "text/latex": [
       "$$0.435846103684348$$"
      ],
      "text/plain": [
       "0.435846103684348"
      ]
     },
     "execution_count": 31,
     "metadata": {},
     "output_type": "execute_result"
    }
   ],
   "source": [
    "# 一貫性指標の計算\n",
    "n = eval_mat_3.shape[0]\n",
    "max_eigen_val = max(eigen_val_vects_3, key=(lambda x: x[EIGEN_VAL_IDX].as_real_imag()[EIGEN_VAL_IDX]))[EIGEN_VAL_IDX]\n",
    "ci = (max_eigen_val - n) / (n - 1)\n",
    "ci"
   ]
  },
  {
   "cell_type": "code",
   "execution_count": 32,
   "metadata": {},
   "outputs": [
    {
     "data": {
      "image/png": "[encoded data removed]",
      "text/latex": [
       "$$0.838165584008362$$"
      ],
      "text/plain": [
       "0.838165584008362"
      ]
     },
     "execution_count": 32,
     "metadata": {},
     "output_type": "execute_result"
    }
   ],
   "source": [
    "# 西崎（2017）『意思決定の数理』を参考に、ランダム指標との比に基づいて評価する\n",
    "\n",
    "# ランダム指標(初出はSaaty（2013）：\n",
    "# 『Theory and Applications of the Analytic Network Process: Decision Making With Benefits, Opportunities, Costs, and Risks』)\n",
    "ri = {3:0.52,\n",
    "      4:0.89,\n",
    "      5:1.11,\n",
    "      6:1.25,\n",
    "      7:1.35,\n",
    "      8:1.40,\n",
    "      9:1.45,\n",
    "      10:1.49\n",
    "     }\n",
    "\n",
    "cr = ci / ri[n]\n",
    "cr"
   ]
  },
  {
   "cell_type": "code",
   "execution_count": 33,
   "metadata": {},
   "outputs": [],
   "source": [
    "# 重みベクトルを計算する関数を修正する\n",
    "# 比較行列から重みベクトルを計算する関数\n",
    "def calc_ahp_weight_vec_over3(comparison_mat):\n",
    "    '''\n",
    "    比較行列から重みベクトルを計算する関数\n",
    "    一貫性の評価のための指標CIとCRも併せて算出して表示させる\n",
    "    \n",
    "    比較対象が3つ以上の時のみ使用できる\n",
    "\n",
    "    Arguments:\n",
    "\n",
    "    comparison_mat -- 比較行列\n",
    "    '''\n",
    "    \n",
    "    # 固有値のインデックス\n",
    "    EIGEN_VAL_IDX = 0\n",
    "    \n",
    "    # sympyの関数を使って、固有値と固有ベクトルを得る\n",
    "    eigen_val_vects = comparison_mat.eigenvects()\n",
    "    \n",
    "    # 最大固有値とその時の固有ベクトルを取得\n",
    "    # 固有値の大小は、実数部で評価\n",
    "    eigen_val, multiplicity, eigen_vec = max(eigen_val_vects, key=(lambda x: x[EIGEN_VAL_IDX].as_real_imag()))\n",
    "    \n",
    "    # 計算過程を出力\n",
    "    print(\"================================================================================\")\n",
    "\n",
    "    # ランダム指標(初出はSaaty（2013）：\n",
    "    # 『Theory and Applications of the Analytic Network Process: Decision Making With Benefits, Opportunities, Costs, and Risks』)\n",
    "    ri = {3:0.52,\n",
    "          4:0.89,\n",
    "          5:1.11,\n",
    "          6:1.25,\n",
    "          7:1.35,\n",
    "          8:1.40,\n",
    "          9:1.45,\n",
    "          10:1.49\n",
    "         }\n",
    "    \n",
    "    # 一貫性指標の計算\n",
    "    n = comparison_mat.shape[0]\n",
    "    ci = (eigen_val - n) / (n - 1)\n",
    "    cr = ci / ri[n]\n",
    "\n",
    "    print(\"一貫性の評価。CI>0.1（あるいはCI>0.15）ならば、比較行列を修正してください\")\n",
    "    print(\"比較対象数　　：\", n)\n",
    "    print(\"最大固有値　　：\", N(eigen_val, 2))\n",
    "    print(\"一貫性の指標CI：\", N(ci, 2))\n",
    "    print(\"一貫性の指標CR：\", N(cr, 2))\n",
    "    \n",
    "    print(\"================================================================================\")\n",
    "    \n",
    "    # 重みの合計が1になるように標準化\n",
    "    weight_vec = eigen_vec[0] / sum(eigen_vec[0])\n",
    "    \n",
    "    # 重みを返す\n",
    "    return(weight_vec)"
   ]
  },
  {
   "cell_type": "code",
   "execution_count": 34,
   "metadata": {
    "scrolled": false
   },
   "outputs": [
    {
     "name": "stdout",
     "output_type": "stream",
     "text": [
      "================================================================================\n",
      "一貫性の評価。CI>0.1（あるいはCI>0.15）ならば、比較行列を修正してください\n",
      "比較対象数　　： 3\n",
      "最大固有値　　： 3.9\n",
      "一貫性の指標CI： 0.44\n",
      "一貫性の指標CR： 0.84\n",
      "================================================================================\n"
     ]
    },
    {
     "data": {
      "text/latex": [
       "$$\\left[\\begin{matrix}0.45\\\\0.37\\\\0.18\\end{matrix}\\right]$$"
      ],
      "text/plain": [
       "⎡0.45⎤\n",
       "⎢    ⎥\n",
       "⎢0.37⎥\n",
       "⎢    ⎥\n",
       "⎣0.18⎦"
      ]
     },
     "execution_count": 34,
     "metadata": {},
     "output_type": "execute_result"
    }
   ],
   "source": [
    "# 基準の重みベクトル\n",
    "eval_weight_3 = calc_ahp_weight_vec_over3(eval_mat_3)\n",
    "N(eval_weight_3, 2)"
   ]
  },
  {
   "cell_type": "markdown",
   "metadata": {},
   "source": [
    "### 寿司と牛丼、ラーメン問題を解決する"
   ]
  },
  {
   "cell_type": "code",
   "execution_count": 35,
   "metadata": {},
   "outputs": [],
   "source": [
    "# 基準の行列\n",
    "# 要素1が味\n",
    "# 要素2が価格\n",
    "# 要素3が時間\n",
    "eval_mat_4 = Matrix(    \n",
    "    [[1  , 3,    2],\n",
    "     [1/3, 1,    1/2],\n",
    "     [1/2, 2,    1]]\n",
    ")\n",
    "\n",
    "# 味に関する、お寿司と牛丼、ラーメンの比較行列\n",
    "# 要素1がお寿司\n",
    "# 要素2が牛丼\n",
    "# 要素3がラーメン\n",
    "taste_mat_4 = Matrix(    \n",
    "    [[1  , 3,  2  ],\n",
    "     [1/3, 1,  1/3],\n",
    "     [1/2, 3,  1  ]]\n",
    ")\n",
    "\n",
    "# 価格に関する、お寿司と牛丼の比較行列\n",
    "# 要素1がお寿司\n",
    "# 要素2が牛丼\n",
    "# 要素3がラーメン\n",
    "price_mat_4 = Matrix(    \n",
    "    [[1  , 1/9, 1/5],\n",
    "     [9  , 1,   3  ],\n",
    "     [5  , 1/3, 1  ]]\n",
    ")\n",
    "\n",
    "# 待ち時間に関する、お寿司と牛丼の比較行列\n",
    "# 要素1がお寿司\n",
    "# 要素2が牛丼\n",
    "# 要素3がラーメン\n",
    "time_mat_4 = Matrix(    \n",
    "    [[1  , 1/9, 1/9],\n",
    "     [9  , 1,   1  ],\n",
    "     [9  , 1,   1  ]]\n",
    ")"
   ]
  },
  {
   "cell_type": "code",
   "execution_count": 36,
   "metadata": {},
   "outputs": [
    {
     "name": "stdout",
     "output_type": "stream",
     "text": [
      "================================================================================\n",
      "一貫性の評価。CI>0.1（あるいはCI>0.15）ならば、比較行列を修正してください\n",
      "比較対象数　　： 3\n",
      "最大固有値　　： 3.0\n",
      "一貫性の指標CI： 0.0046\n",
      "一貫性の指標CR： 0.0089\n",
      "================================================================================\n"
     ]
    },
    {
     "data": {
      "text/latex": [
       "$$\\left[\\begin{matrix}0.54\\\\0.16\\\\0.3\\end{matrix}\\right]$$"
      ],
      "text/plain": [
       "⎡0.54⎤\n",
       "⎢    ⎥\n",
       "⎢0.16⎥\n",
       "⎢    ⎥\n",
       "⎣0.3 ⎦"
      ]
     },
     "execution_count": 36,
     "metadata": {},
     "output_type": "execute_result"
    }
   ],
   "source": [
    "# 基準の重みベクトル\n",
    "eval_weight_4 = calc_ahp_weight_vec_over3(eval_mat_4)\n",
    "N(eval_weight_4, 2)"
   ]
  },
  {
   "cell_type": "code",
   "execution_count": 37,
   "metadata": {},
   "outputs": [
    {
     "name": "stdout",
     "output_type": "stream",
     "text": [
      "================================================================================\n",
      "一貫性の評価。CI>0.1（あるいはCI>0.15）ならば、比較行列を修正してください\n",
      "比較対象数　　： 3\n",
      "最大固有値　　： 3.1\n",
      "一貫性の指標CI： 0.027\n",
      "一貫性の指標CR： 0.052\n",
      "================================================================================\n"
     ]
    },
    {
     "data": {
      "text/latex": [
       "$$\\left[\\begin{matrix}0.53\\\\0.14\\\\0.33\\end{matrix}\\right]$$"
      ],
      "text/plain": [
       "⎡0.53⎤\n",
       "⎢    ⎥\n",
       "⎢0.14⎥\n",
       "⎢    ⎥\n",
       "⎣0.33⎦"
      ]
     },
     "execution_count": 37,
     "metadata": {},
     "output_type": "execute_result"
    }
   ],
   "source": [
    "# 味に関する、お寿司と牛丼、ラーメンの重みベクトル\n",
    "taste_weight_4 = calc_ahp_weight_vec_over3(taste_mat_4)\n",
    "N(taste_weight_4, 2)"
   ]
  },
  {
   "cell_type": "code",
   "execution_count": 38,
   "metadata": {},
   "outputs": [
    {
     "name": "stdout",
     "output_type": "stream",
     "text": [
      "================================================================================\n",
      "一貫性の評価。CI>0.1（あるいはCI>0.15）ならば、比較行列を修正してください\n",
      "比較対象数　　： 3\n",
      "最大固有値　　： 3.0\n",
      "一貫性の指標CI： 0.015\n",
      "一貫性の指標CR： 0.028\n",
      "================================================================================\n"
     ]
    },
    {
     "data": {
      "text/latex": [
       "$$\\left[\\begin{matrix}0.063\\\\0.67\\\\0.27\\end{matrix}\\right]$$"
      ],
      "text/plain": [
       "⎡0.063⎤\n",
       "⎢     ⎥\n",
       "⎢0.67 ⎥\n",
       "⎢     ⎥\n",
       "⎣0.27 ⎦"
      ]
     },
     "execution_count": 38,
     "metadata": {},
     "output_type": "execute_result"
    }
   ],
   "source": [
    "# 価格に関する、お寿司と牛丼、ラーメンの重みベクトル\n",
    "price_weight_4 = calc_ahp_weight_vec_over3(price_mat_4)\n",
    "N(price_weight_4, 2)"
   ]
  },
  {
   "cell_type": "code",
   "execution_count": 39,
   "metadata": {
    "scrolled": true
   },
   "outputs": [
    {
     "name": "stdout",
     "output_type": "stream",
     "text": [
      "================================================================================\n",
      "一貫性の評価。CI>0.1（あるいはCI>0.15）ならば、比較行列を修正してください\n",
      "比較対象数　　： 3\n",
      "最大固有値　　： 3.0\n",
      "一貫性の指標CI： 0\n",
      "一貫性の指標CR： 0\n",
      "================================================================================\n"
     ]
    },
    {
     "data": {
      "text/latex": [
       "$$\\left[\\begin{matrix}0.053\\\\0.47\\\\0.47\\end{matrix}\\right]$$"
      ],
      "text/plain": [
       "⎡0.053⎤\n",
       "⎢     ⎥\n",
       "⎢0.47 ⎥\n",
       "⎢     ⎥\n",
       "⎣0.47 ⎦"
      ]
     },
     "execution_count": 39,
     "metadata": {},
     "output_type": "execute_result"
    }
   ],
   "source": [
    "# 時間に関する、お寿司と牛丼、ラーメンの重みベクトル\n",
    "time_weight_4 = calc_ahp_weight_vec_over3(time_mat_4)\n",
    "N(time_weight_4, 2)"
   ]
  },
  {
   "cell_type": "code",
   "execution_count": 40,
   "metadata": {},
   "outputs": [
    {
     "data": {
      "text/latex": [
       "$$\\left[\\begin{matrix}0.53 & 0.063 & 0.053\\\\0.14 & 0.67 & 0.47\\\\0.33 & 0.27 & 0.47\\end{matrix}\\right]$$"
      ],
      "text/plain": [
       "⎡0.53  0.063  0.053⎤\n",
       "⎢                  ⎥\n",
       "⎢0.14  0.67   0.47 ⎥\n",
       "⎢                  ⎥\n",
       "⎣0.33  0.27   0.47 ⎦"
      ]
     },
     "execution_count": 40,
     "metadata": {},
     "output_type": "execute_result"
    }
   ],
   "source": [
    "# 行が選択肢　；お寿司と牛丼、ラーメンの重みベクトル\n",
    "# 列が基準：味・価格・時間\n",
    "join_mat_4 = taste_weight_4.row_join(price_weight_4).row_join(time_weight_4)\n",
    "N(join_mat_4, 2)"
   ]
  },
  {
   "cell_type": "code",
   "execution_count": 41,
   "metadata": {
    "scrolled": true
   },
   "outputs": [
    {
     "data": {
      "text/latex": [
       "$$\\left[\\begin{matrix}0.31\\\\0.33\\\\0.36\\end{matrix}\\right]$$"
      ],
      "text/plain": [
       "⎡0.31⎤\n",
       "⎢    ⎥\n",
       "⎢0.33⎥\n",
       "⎢    ⎥\n",
       "⎣0.36⎦"
      ]
     },
     "execution_count": 41,
     "metadata": {},
     "output_type": "execute_result"
    }
   ],
   "source": [
    "# 総合評価\n",
    "# 要素1がお寿司\n",
    "# 要素2が牛丼\n",
    "# 要素3がラーメン\n",
    "N(join_mat_4 * eval_weight_4, 2)"
   ]
  },
  {
   "cell_type": "code",
   "execution_count": null,
   "metadata": {},
   "outputs": [],
   "source": []
  }
 ],
 "metadata": {
  "kernelspec": {
   "display_name": "Python 3",
   "language": "python",
   "name": "python3"
  },
  "language_info": {
   "codemirror_mode": {
    "name": "ipython",
    "version": 3
   },
   "file_extension": ".py",
   "mimetype": "text/x-python",
   "name": "python",
   "nbconvert_exporter": "python",
   "pygments_lexer": "ipython3",
   "version": "3.6.8"
  }
 },
 "nbformat": 4,
 "nbformat_minor": 2
}
