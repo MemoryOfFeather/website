{
 "cells": [
  {
   "cell_type": "markdown",
   "metadata": {},
   "source": [
    "# エントロピーモデルを応用した、価格による需要調整とPythonによる実装\n",
    "##  https://logics-of-blue.com/entropy-model-for-price-setting-with-python/"
   ]
  },
  {
   "cell_type": "code",
   "execution_count": 1,
   "metadata": {},
   "outputs": [
    {
     "data": {
      "text/plain": [
       "'%.3f'"
      ]
     },
     "execution_count": 1,
     "metadata": {},
     "output_type": "execute_result"
    }
   ],
   "source": [
    "# ライブラリを読み込む\n",
    "import scipy as sp\n",
    "import numpy as np\n",
    "\n",
    "from scipy.optimize import minimize # 最適化\n",
    "from scipy.stats import entropy     # エントロピー計算\n",
    "\n",
    "# 表示桁数の設定\n",
    "%precision 3\n"
   ]
  },
  {
   "cell_type": "markdown",
   "metadata": {},
   "source": [
    "### 情報エントロピーの計算"
   ]
  },
  {
   "cell_type": "code",
   "execution_count": 2,
   "metadata": {},
   "outputs": [
    {
     "name": "stdout",
     "output_type": "stream",
     "text": [
      "情報エントロピー\n",
      "0.5004024235381879\n",
      "情報エントロピー(関数使用)\n",
      "0.5004024235381879\n"
     ]
    }
   ],
   "source": [
    "# エントロピー計算\n",
    "probs = np.array([0.8, 0.2])\n",
    "\n",
    "H = -1*probs[0]*sp.log(probs[0]) - probs[1]*sp.log(probs[1])\n",
    "print('情報エントロピー')\n",
    "print(H)\n",
    "\n",
    "print('情報エントロピー(関数使用)')\n",
    "print(entropy(probs))"
   ]
  },
  {
   "cell_type": "code",
   "execution_count": 3,
   "metadata": {},
   "outputs": [
    {
     "data": {
      "text/plain": [
       "0.6931471805599453"
      ]
     },
     "execution_count": 3,
     "metadata": {},
     "output_type": "execute_result"
    }
   ],
   "source": [
    "# 最も大きなエントロピー\n",
    "probs = np.array([0.5, 0.5])\n",
    "entropy(probs)"
   ]
  },
  {
   "cell_type": "markdown",
   "metadata": {},
   "source": [
    "### 1因子情報路"
   ]
  },
  {
   "cell_type": "code",
   "execution_count": 4,
   "metadata": {},
   "outputs": [
    {
     "name": "stdout",
     "output_type": "stream",
     "text": [
      "エントロピーモデルにより計算された購入比率\n",
      "[0.682 0.318]\n"
     ]
    }
   ],
   "source": [
    "# 価格の比率\n",
    "cost_ratio = np.array([1,3])\n",
    "\n",
    "# 目的関数\n",
    "def target_func(user_ratio):\n",
    "    return (float)(-1 * entropy(user_ratio)/(sum(user_ratio * cost_ratio)))\n",
    "\n",
    "# 制約条件式\n",
    "# 「0よりも大きい」を表すために、小さな値を足しこんでいる（デフォルトだと0以上の設定）\n",
    "cons = (\n",
    "    {'type': 'ineq','fun': lambda p: p[0]},\n",
    "    {'type': 'ineq','fun': lambda p: p[1]},\n",
    "    {'type': 'eq',  'fun': lambda p: p[0] + p[1] - 1}\n",
    ")\n",
    "\n",
    "# 初期値\n",
    "p = np.array([0.5,0.5])\n",
    "\n",
    "# ソルバーを実行\n",
    "result = minimize(target_func, \n",
    "                  x0=p, \n",
    "                  constraints=cons, \n",
    "                  method=\"SLSQP\",\n",
    "                  options={'maxiter': 10000, 'ftol': 1e-10})\n",
    "\n",
    "# 結果の表示\n",
    "print('エントロピーモデルにより計算された購入比率')\n",
    "print(result.x)"
   ]
  },
  {
   "cell_type": "markdown",
   "metadata": {},
   "source": [
    "### 1因子情報路モデルの関数化"
   ]
  },
  {
   "cell_type": "code",
   "execution_count": 5,
   "metadata": {},
   "outputs": [],
   "source": [
    "# エントロピーモデルの1因子情報路モデルの推定\n",
    "def entropy_model_one(cost_ratio):\n",
    "    '''\n",
    "    エントロピーモデルの1因子情報路モデルの推定\n",
    "\n",
    "    Arguments:\n",
    "\n",
    "    cost_ratio -- 商品コストの比率。金額の比率や消費時間の比率等。\n",
    "    \n",
    "    '''\n",
    "\n",
    "    # ランクの数\n",
    "    rank_num = len(cost_ratio)\n",
    "\n",
    "    # 最適化の目的関数\n",
    "    target_func = lambda user_ratio: (float)(-1 * entropy(user_ratio)/(sum(user_ratio * cost_ratio)))\n",
    "\n",
    "    # 制約条件の作成\n",
    "    construction = []\n",
    "\n",
    "    # すべての確率が0以上という制約\n",
    "    for i in range(0, rank_num):\n",
    "        construction.append({'type': 'ineq','fun': lambda p: p[i]})\n",
    "\n",
    "    # 確率の合計が1であるという制約\n",
    "    construction.append({'type': 'eq','fun': lambda p: sum(p) - 1})\n",
    "\n",
    "    # 初期値\n",
    "    p0 = np.tile(1/rank_num, rank_num)\n",
    "\n",
    "    # ソルバーを実行\n",
    "    result = minimize(fun=target_func, \n",
    "                      x0=p0, \n",
    "                      constraints=construction, \n",
    "                      method=\"SLSQP\",\n",
    "                      options={'maxiter': 10000, 'ftol': 1e-10})\n",
    "\n",
    "    return result"
   ]
  },
  {
   "cell_type": "code",
   "execution_count": 6,
   "metadata": {},
   "outputs": [
    {
     "name": "stdout",
     "output_type": "stream",
     "text": [
      "[0.682 0.318]\n"
     ]
    }
   ],
   "source": [
    "# 1因子情報路モデルによる理論上の購入比率\n",
    "print(entropy_model_one(np.array([1,3])).x)"
   ]
  },
  {
   "cell_type": "code",
   "execution_count": 7,
   "metadata": {},
   "outputs": [
    {
     "name": "stdout",
     "output_type": "stream",
     "text": [
      "[0.778 0.222]\n"
     ]
    }
   ],
   "source": [
    "# コスト比率を変えて、商品Bをさらに2倍お得にした時のユーザー比率\n",
    "print(entropy_model_one(np.array([1,6])).x)"
   ]
  },
  {
   "cell_type": "code",
   "execution_count": 8,
   "metadata": {},
   "outputs": [
    {
     "name": "stdout",
     "output_type": "stream",
     "text": [
      "[0.509 0.259 0.132 0.067 0.034]\n"
     ]
    }
   ],
   "source": [
    "# コスト比率を細かく分けた時\n",
    "print(entropy_model_one(np.array([1,2,3,4,5])).x)"
   ]
  },
  {
   "cell_type": "markdown",
   "metadata": {
    "collapsed": true
   },
   "source": [
    "### 層別化：固定層がいる場合の購入比率"
   ]
  },
  {
   "cell_type": "code",
   "execution_count": 9,
   "metadata": {},
   "outputs": [
    {
     "name": "stdout",
     "output_type": "stream",
     "text": [
      "価格の比率\n",
      "[3 1]\n",
      "金額の比率から求められる、理論上の商品選択率\n",
      "[0.318 0.682]\n"
     ]
    }
   ],
   "source": [
    "# 価格の比率\n",
    "cost_ratio = np.array([3,1])\n",
    "print('価格の比率')\n",
    "print(cost_ratio)\n",
    "\n",
    "# 理論上の選択率\n",
    "user_ratio_by_cost = entropy_model_one(cost_ratio).x\n",
    "print('金額の比率から求められる、理論上の商品選択率')\n",
    "print(user_ratio_by_cost)"
   ]
  },
  {
   "cell_type": "code",
   "execution_count": 10,
   "metadata": {},
   "outputs": [
    {
     "name": "stdout",
     "output_type": "stream",
     "text": [
      "実際の選択率\n",
      "[0.7 0.3]\n"
     ]
    }
   ],
   "source": [
    "# 実際の選択率\n",
    "true_user_ratio = np.array([0.7,0.3])\n",
    "print('実際の選択率')\n",
    "print(true_user_ratio)"
   ]
  },
  {
   "cell_type": "code",
   "execution_count": 11,
   "metadata": {},
   "outputs": [
    {
     "name": "stdout",
     "output_type": "stream",
     "text": [
      "商品Aの固定層：商品Bの固定層：価格によって購入するものを変える層\n",
      "[0.602 0.09  0.308]\n"
     ]
    }
   ],
   "source": [
    "# 目的関数（エントロピー最大化）\n",
    "def target_function(p):\n",
    "    return (float)(-1*(entropy(p) + p[2]*entropy(user_ratio_by_cost)))\n",
    "\n",
    "\n",
    "# 制約条件：確率は0以上で合計値は1\n",
    "# 制約条件：実際の選択率と等しくなる\n",
    "cons = (\n",
    "    {'type': 'ineq','fun': lambda p: p[0]},\n",
    "    {'type': 'ineq','fun': lambda p: p[1]},\n",
    "    {'type': 'ineq','fun': lambda p: p[2]},\n",
    "    {'type': 'eq',  'fun': lambda p: p[0] + p[1] + p[2] - 1},\n",
    "    {'type': 'eq',  'fun': lambda p: p[0] + p[2] * user_ratio_by_cost[0] - true_user_ratio[0]}\n",
    ")\n",
    "\n",
    "# 初期値\n",
    "p = np.array([0.7,0.3,0])\n",
    "\n",
    "# ソルバーを実行\n",
    "stable_user_ratio = minimize(target_function, \n",
    "                             x0=p, \n",
    "                             constraints=cons, \n",
    "                             method=\"SLSQP\",\n",
    "                             options={'maxiter': 10000, 'ftol': 1e-10})\n",
    "\n",
    "print('商品Aの固定層：商品Bの固定層：価格によって購入するものを変える層')\n",
    "print(stable_user_ratio.x)"
   ]
  },
  {
   "cell_type": "code",
   "execution_count": 12,
   "metadata": {},
   "outputs": [
    {
     "data": {
      "text/plain": [
       "0.70000000000011"
      ]
     },
     "execution_count": 12,
     "metadata": {},
     "output_type": "execute_result"
    }
   ],
   "source": [
    "# 実際の選択率と一致していることの確認\n",
    "stable_user_ratio.x[0] + stable_user_ratio.x[2]*user_ratio_by_cost[0]"
   ]
  },
  {
   "cell_type": "code",
   "execution_count": 13,
   "metadata": {},
   "outputs": [
    {
     "data": {
      "text/plain": [
       "0.2999999999998901"
      ]
     },
     "execution_count": 13,
     "metadata": {},
     "output_type": "execute_result"
    }
   ],
   "source": [
    "# 実際の選択率と一致していることの確認\n",
    "stable_user_ratio.x[1] + stable_user_ratio.x[2]*user_ratio_by_cost[1]"
   ]
  },
  {
   "cell_type": "markdown",
   "metadata": {},
   "source": [
    "### 多因子情報路モデル"
   ]
  },
  {
   "cell_type": "code",
   "execution_count": 14,
   "metadata": {},
   "outputs": [
    {
     "name": "stdout",
     "output_type": "stream",
     "text": [
      "価格の比率\n",
      "[1 2 4]\n",
      "所要時間の比率\n",
      "[8 3 1]\n",
      "価格の比率に基づく理論上の選択率\n",
      "[0.57  0.325 0.105]\n",
      "所要時間の比率に基づく理論上の選択率\n",
      "[0.039 0.295 0.666]\n",
      "実際の選択率\n",
      "[0.1 0.4 0.5]\n"
     ]
    }
   ],
   "source": [
    "# 価格の比率\n",
    "cost_ratio = np.array([1,2,4])\n",
    "print('価格の比率')\n",
    "print(cost_ratio)\n",
    "\n",
    "# 所要時間の比率\n",
    "time_ratio = np.array([8,3,1])\n",
    "print('所要時間の比率')\n",
    "print(time_ratio)\n",
    "\n",
    "# 価格の比率に基づく理論上の選択率\n",
    "user_ratio_by_cost = entropy_model_one(cost_ratio).x\n",
    "print('価格の比率に基づく理論上の選択率')\n",
    "print(user_ratio_by_cost)\n",
    "\n",
    "# 所要時間の比率に基づく理論上の選択率（無理やり並び替えた）\n",
    "user_ratio_by_time = entropy_model_one(time_ratio).x\n",
    "print('所要時間の比率に基づく理論上の選択率')\n",
    "print(user_ratio_by_time)\n",
    "\n",
    "# 実際の選択率\n",
    "true_user_ratio = np.array([0.1,0.4,0.5])\n",
    "print('実際の選択率')\n",
    "print(true_user_ratio)"
   ]
  },
  {
   "cell_type": "code",
   "execution_count": 15,
   "metadata": {},
   "outputs": [
    {
     "name": "stdout",
     "output_type": "stream",
     "text": [
      "商品Aの固定層：商品Bの固定層：商品Cの固定層：価格によって変える層：消費時間によって変える層\n",
      "[0.015 0.237 0.209 0.121 0.418]\n"
     ]
    }
   ],
   "source": [
    "# 目的関数（エントロピー最大化）\n",
    "def target_function(p):\n",
    "    return (float)(-1*(entropy(p) + p[3]*entropy(user_ratio_by_cost) + p[4]*entropy(user_ratio_by_time)))\n",
    "\n",
    "# 制約条件：実際の選択率と等しくなる\n",
    "cons = (\n",
    "    {'type': 'ineq','fun': lambda p: p[0]},\n",
    "    {'type': 'ineq','fun': lambda p: p[1]},\n",
    "    {'type': 'ineq','fun': lambda p: p[2]},\n",
    "    {'type': 'ineq','fun': lambda p: p[3]},\n",
    "    {'type': 'ineq','fun': lambda p: p[4]},\n",
    "    {'type': 'eq',  'fun': lambda p: p[0] + p[1] + p[2] + p[3] + p[4] - 1},\n",
    "    {'type': 'eq',  'fun': lambda p: p[0] + p[3]*user_ratio_by_cost[0] + p[4]*user_ratio_by_time[0] - true_user_ratio[0]},\n",
    "    {'type': 'eq',  'fun': lambda p: p[1] + p[3]*user_ratio_by_cost[1] + p[4]*user_ratio_by_time[1] - true_user_ratio[1]}\n",
    ")\n",
    "\n",
    "# 初期値\n",
    "p0 = np.array([0.5,0.3,0.2,0,0])\n",
    "\n",
    "# ソルバーを実行\n",
    "user_pattern_ratio = minimize(target_function, \n",
    "                              x0=p0, \n",
    "                              constraints=cons, \n",
    "                              method=\"SLSQP\",\n",
    "                              options={'maxiter': 10000, 'ftol': 1e-10})\n",
    "\n",
    "print('商品Aの固定層：商品Bの固定層：商品Cの固定層：価格によって変える層：消費時間によって変える層')\n",
    "print(user_pattern_ratio.x)"
   ]
  },
  {
   "cell_type": "code",
   "execution_count": null,
   "metadata": {},
   "outputs": [],
   "source": []
  }
 ],
 "metadata": {
  "kernelspec": {
   "display_name": "Python 3",
   "language": "python",
   "name": "python3"
  },
  "language_info": {
   "codemirror_mode": {
    "name": "ipython",
    "version": 3
   },
   "file_extension": ".py",
   "mimetype": "text/x-python",
   "name": "python",
   "nbconvert_exporter": "python",
   "pygments_lexer": "ipython3",
   "version": "3.6.8"
  }
 },
 "nbformat": 4,
 "nbformat_minor": 2
}
